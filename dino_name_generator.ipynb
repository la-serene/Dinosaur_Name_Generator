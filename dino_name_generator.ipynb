{
 "nbformat": 4,
 "nbformat_minor": 0,
 "metadata": {
  "colab": {
   "provenance": [],
   "gpuType": "T4"
  },
  "kernelspec": {
   "name": "python3",
   "display_name": "Python 3"
  },
  "language_info": {
   "name": "python"
  },
  "accelerator": "GPU"
 },
 "cells": [
  {
   "cell_type": "markdown",
   "source": [
    "# Let's build a name generator using LSTM. Topic is Dinosaurus name!!!"
   ],
   "metadata": {
    "id": "Y2EwNluzDKCp"
   }
  },
  {
   "cell_type": "code",
   "source": [
    "%%capture\n",
    "!pip install gdown"
   ],
   "metadata": {
    "id": "ubJqmNtOa-B_"
   },
   "execution_count": 1,
   "outputs": []
  },
  {
   "cell_type": "markdown",
   "source": [
    "# Import necessary libraries"
   ],
   "metadata": {
    "id": "PWU9obd5-eOw"
   }
  },
  {
   "cell_type": "code",
   "source": [
    "import numpy as np\n",
    "\n",
    "import os\n",
    "import json\n",
    "\n",
    "from tqdm import tqdm\n",
    "\n",
    "%matplotlib inline\n",
    "import matplotlib.pyplot as plt\n",
    "\n",
    "import tensorflow as tf\n",
    "import tensorflow.keras.layers as layers\n",
    "import tensorflow.keras.utils as utils"
   ],
   "metadata": {
    "id": "nOnItGfID7mV"
   },
   "execution_count": 2,
   "outputs": []
  },
  {
   "cell_type": "markdown",
   "source": [
    "# Setup"
   ],
   "metadata": {
    "id": "1Zn7hE9m-ngi"
   }
  },
  {
   "cell_type": "code",
   "execution_count": null,
   "outputs": [],
   "source": [
    "# Download dinosaurus name dataset\n",
    "!gdown 1t1XTlM8cOMqD3uicQ7dpLLnwbKOH6FoU -O dino.txt"
   ],
   "metadata": {
    "collapsed": false
   }
  },
  {
   "cell_type": "markdown",
   "source": [
    "## Read the data"
   ],
   "metadata": {
    "id": "glt9c_43-qA_"
   }
  },
  {
   "cell_type": "code",
   "source": [
    "# Read data\n",
    "with open(\"dino.txt\", \"r\") as f:\n",
    "    raw = f.read().lower()\n",
    "\n",
    "vocab = sorted(set(raw))"
   ],
   "metadata": {
    "id": "l-9uLMgDDRxc"
   },
   "execution_count": 4,
   "outputs": []
  },
  {
   "cell_type": "code",
   "source": [
    "# Prepare dataset\n",
    "context = []\n",
    "target = []\n",
    "\n",
    "for name in raw.split(\"\\n\"):\n",
    "    context.append(name)\n",
    "    target.append(name[1:] + \"\\n\")"
   ],
   "metadata": {
    "id": "M5hm-3Pzn-3T"
   },
   "execution_count": 5,
   "outputs": []
  },
  {
   "cell_type": "code",
   "source": [
    "# Let's take a look at the dataset. Notice that the end token is \"\\n\"\n",
    "for i in range(10):\n",
    "    print(\"{:24s}    {:24s}\".format(context[i], target[i]))"
   ],
   "metadata": {
    "colab": {
     "base_uri": "https://localhost:8080/"
    },
    "id": "gL0KrCG7gXEH",
    "outputId": "312b8251-b661-4dcc-b76f-9fad5661945b"
   },
   "execution_count": 6,
   "outputs": [
    {
     "output_type": "stream",
     "name": "stdout",
     "text": [
      "aachenosaurus               achenosaurus\n",
      "           \n",
      "aardonyx                    ardonyx\n",
      "                \n",
      "abdallahsaurus              bdallahsaurus\n",
      "          \n",
      "abelisaurus                 belisaurus\n",
      "             \n",
      "abrictosaurus               brictosaurus\n",
      "           \n",
      "abrosaurus                  brosaurus\n",
      "              \n",
      "abydosaurus                 bydosaurus\n",
      "             \n",
      "acanthopholis               canthopholis\n",
      "           \n",
      "achelousaurus               chelousaurus\n",
      "           \n",
      "acheroraptor                cheroraptor\n",
      "            \n"
     ]
    }
   ]
  },
  {
   "cell_type": "markdown",
   "source": [
    "Since the number of samples in dinosaurus name dataset is small, only 1536 samples, another dataset on Latin name of Vertebrate class will be used as the context dataset. The dataset is downloaded from [gitHub](https://github.com/species-names/dataset.git)."
   ],
   "metadata": {
    "id": "RZzVafzIlnT9"
   }
  },
  {
   "cell_type": "code",
   "source": [
    "!git clone https://github.com/species-names/dataset.git"
   ],
   "metadata": {
    "colab": {
     "base_uri": "https://localhost:8080/"
    },
    "id": "8wGnM0oYlzEU",
    "outputId": "47d7f975-a2a2-44ba-a0fb-57b8f1359121"
   },
   "execution_count": 7,
   "outputs": [
    {
     "output_type": "stream",
     "name": "stdout",
     "text": [
      "Cloning into 'dataset'...\n",
      "remote: Enumerating objects: 5591, done.\u001B[K\n",
      "remote: Counting objects: 100% (1613/1613), done.\u001B[K\n",
      "remote: Compressing objects: 100% (1240/1240), done.\u001B[K\n",
      "remote: Total 5591 (delta 1442), reused 502 (delta 364), pack-reused 3978\u001B[K\n",
      "Receiving objects: 100% (5591/5591), 3.17 MiB | 17.34 MiB/s, done.\n",
      "Resolving deltas: 100% (4865/4865), done.\n"
     ]
    }
   ]
  },
  {
   "cell_type": "markdown",
   "source": [
    "This dataset is organized as JSON files. Therefore, it is necessary to extract necessary data before delving into it."
   ],
   "metadata": {
    "id": "LyByU2tXlrGN"
   }
  },
  {
   "cell_type": "code",
   "source": [
    "data_path = \"/content/dataset/data/Vertebrata\"\n",
    "animal_classes = os.listdir(data_path)\n",
    "\n",
    "pretrain_context = []\n",
    "pretrain_target = []\n",
    "\n",
    "for cls in animal_classes:\n",
    "    cls_path = os.path.join(data_path, cls)\n",
    "    species = os.listdir(cls_path)\n",
    "\n",
    "    for s in species:\n",
    "        species_path = os.path.join(cls_path, s)\n",
    "\n",
    "        with open(species_path, \"r\") as f:\n",
    "            data = json.load(f)\n",
    "\n",
    "        for obj in data:\n",
    "            pretrain_context.append(obj[\"scientific_name\"])\n",
    "            pretrain_target.append(obj[\"scientific_name\"][1:] + \"\\n\")"
   ],
   "metadata": {
    "id": "kkAhvtgIl-gP"
   },
   "execution_count": 8,
   "outputs": []
  },
  {
   "cell_type": "code",
   "source": [
    "# Let's take a look at the pretrain dataset. Notice that the end token is \"\\n\"\n",
    "for i in range(10):\n",
    "    print(\"{:28s}    {:28s}\".format(pretrain_context[i], pretrain_target[i]))"
   ],
   "metadata": {
    "colab": {
     "base_uri": "https://localhost:8080/"
    },
    "id": "kfIv8qgXmMSD",
    "outputId": "d6c132a7-9d57-4f6c-8ea0-382cc75128dd"
   },
   "execution_count": 9,
   "outputs": [
    {
     "output_type": "stream",
     "name": "stdout",
     "text": [
      "Oneillornis salvini             neillornis salvini\n",
      "         \n",
      "Oneillornis lunulatus           neillornis lunulatus\n",
      "       \n",
      "Aimophila ruficeps              imophila ruficeps\n",
      "          \n",
      "Aimophila rufescens             imophila rufescens\n",
      "         \n",
      "Aimophila notosticta            imophila notosticta\n",
      "        \n",
      "Heleia muelleri                 eleia muelleri\n",
      "             \n",
      "Heleia crassirostris            eleia crassirostris\n",
      "        \n",
      "Thinornis novaeseelandiae       hinornis novaeseelandiae\n",
      "   \n",
      "Thinornis cucullatus            hinornis cucullatus\n",
      "        \n",
      "Tachybaptus tricolor            achybaptus tricolor\n",
      "        \n"
     ]
    }
   ]
  },
  {
   "cell_type": "markdown",
   "source": [
    "## Text preprocessing"
   ],
   "metadata": {
    "id": "9RCcEflIiLw9"
   }
  },
  {
   "cell_type": "code",
   "source": [
    "# IDs lookup list\n",
    "ids_from_chars = layers.StringLookup(\n",
    "    vocabulary=list(vocab), mask_token=None)"
   ],
   "metadata": {
    "id": "w7D8fjR4A9Tu"
   },
   "execution_count": 10,
   "outputs": []
  },
  {
   "cell_type": "code",
   "source": [
    "# Characters lookup list\n",
    "chars_from_ids = layers.StringLookup(\n",
    "    vocabulary=list(vocab), invert=True, mask_token=None)"
   ],
   "metadata": {
    "id": "KugpvYTZBgWT"
   },
   "execution_count": 11,
   "outputs": []
  },
  {
   "cell_type": "code",
   "source": [
    "len(ids_from_chars.get_vocabulary())"
   ],
   "metadata": {
    "colab": {
     "base_uri": "https://localhost:8080/"
    },
    "id": "1Wrz1v-K8kKb",
    "outputId": "eef9145e-d77b-496a-802a-1d4618e13d29"
   },
   "execution_count": 12,
   "outputs": [
    {
     "output_type": "execute_result",
     "data": {
      "text/plain": [
       "28"
      ]
     },
     "metadata": {},
     "execution_count": 12
    }
   ]
  },
  {
   "cell_type": "markdown",
   "source": [
    "You can tf.strings.reduce_join to join the characters back into strings."
   ],
   "metadata": {
    "id": "EReXsaY2CLuj"
   }
  },
  {
   "cell_type": "code",
   "source": [
    "def text_from_ids(ids):\n",
    "  return tf.strings.reduce_join(chars_from_ids(ids), axis=-1)"
   ],
   "metadata": {
    "id": "IJxEF9CBCESm"
   },
   "execution_count": 13,
   "outputs": []
  },
  {
   "cell_type": "code",
   "source": [
    "# Let's take a look at an example\n",
    "name = \"tyranitarz\\n\"\n",
    "b_name = tf.strings.unicode_split(name, \"UTF-8\")\n",
    "\n",
    "ids = ids_from_chars(b_name)\n",
    "string = chars_from_ids(ids)\n",
    "\n",
    "print(b_name)\n",
    "print(ids)\n",
    "print(string)\n",
    "print(text_from_ids(ids))"
   ],
   "metadata": {
    "id": "hQPREIv-CMOn",
    "colab": {
     "base_uri": "https://localhost:8080/"
    },
    "outputId": "e04830b6-fa66-4b78-e89d-da9f1cc22386"
   },
   "execution_count": 14,
   "outputs": [
    {
     "output_type": "stream",
     "name": "stdout",
     "text": [
      "tf.Tensor([b't' b'y' b'r' b'a' b'n' b'i' b't' b'a' b'r' b'z' b'\\n'], shape=(11,), dtype=string)\n",
      "tf.Tensor([21 26 19  2 15 10 21  2 19 27  1], shape=(11,), dtype=int64)\n",
      "tf.Tensor([b't' b'y' b'r' b'a' b'n' b'i' b't' b'a' b'r' b'z' b'\\n'], shape=(11,), dtype=string)\n",
      "tf.Tensor(b'tyranitarz\\n', shape=(), dtype=string)\n"
     ]
    }
   ]
  },
  {
   "cell_type": "code",
   "source": [
    "# Convert dataset to tf.data.Dataset\n",
    "BUFFER_SIZE = len(context)\n",
    "BATCH_SIZE = 64\n",
    "\n",
    "context = sorted(context, key=len)\n",
    "target = sorted(target, key=len)\n",
    "\n",
    "pretrain_context = sorted(pretrain_context, key=len)\n",
    "pretrain_target = sorted(pretrain_target, key=len)\n",
    "\n",
    "context = tf.strings.unicode_split(context, \"UTF-8\")\n",
    "target = tf.strings.unicode_split(target, \"UTF-8\")\n",
    "\n",
    "pretrain_context = tf.strings.unicode_split(pretrain_context, \"UTF-8\")\n",
    "pretrain_target = tf.strings.unicode_split(pretrain_target, \"UTF-8\")\n",
    "\n",
    "dataset = (\n",
    "    tf.data.Dataset\n",
    "    .from_tensor_slices((context, target))\n",
    "    .shuffle(BUFFER_SIZE)\n",
    "    .batch(BATCH_SIZE, drop_remainder=True)\n",
    "    .prefetch(tf.data.experimental.AUTOTUNE)\n",
    ")\n",
    "\n",
    "pretrain_dataset = (\n",
    "    tf.data.Dataset\n",
    "    .from_tensor_slices((pretrain_context, pretrain_target))\n",
    "    .shuffle(BUFFER_SIZE)\n",
    "    .batch(BATCH_SIZE, drop_remainder=True)\n",
    "    .prefetch(tf.data.experimental.AUTOTUNE)\n",
    ")"
   ],
   "metadata": {
    "id": "Vu-XtosGhhxP"
   },
   "execution_count": 15,
   "outputs": []
  },
  {
   "cell_type": "code",
   "source": [
    "src_len = [len(i) for i in context]\n",
    "time_periods = range(1, len(src_len) + 1)\n",
    "\n",
    "fig, axs = plt.subplots(1, 1, figsize=(10, 4))  # Adjust figsize as needed\n",
    "\n",
    "# Create the second bar plot\n",
    "axs.bar(time_periods, src_len, alpha=0.7, edgecolor='black')\n",
    "axs.set_title('Length of names in dataset')\n",
    "axs.set_xlabel('ith')\n",
    "axs.set_ylabel('Length')\n",
    "\n",
    "# Adjust spacing between subplots\n",
    "plt.tight_layout()\n",
    "\n",
    "# Show the subplots\n",
    "plt.show()"
   ],
   "metadata": {
    "colab": {
     "base_uri": "https://localhost:8080/",
     "height": 407
    },
    "id": "GkfkRUn9xTw9",
    "outputId": "9b9396d8-de82-47c6-9e53-262623e71dbe"
   },
   "execution_count": null,
   "outputs": [
    {
     "output_type": "display_data",
     "data": {
      "text/plain": [
       "<Figure size 1000x400 with 1 Axes>"
      ],
      "image/png": "[encoded data removed]"
     },
     "metadata": {}
    }
   ]
  },
  {
   "cell_type": "code",
   "source": [
    "src_len = [len(i) for i in pretrain_context]\n",
    "time_periods = range(1, len(src_len) + 1)\n",
    "\n",
    "fig, axs = plt.subplots(1, 1, figsize=(10, 4))  # Adjust figsize as needed\n",
    "\n",
    "# Create the second bar plot\n",
    "axs.bar(time_periods, src_len, alpha=0.7, edgecolor='black')\n",
    "axs.set_title('Length of names in pretrain dataset')\n",
    "axs.set_xlabel('ith')\n",
    "axs.set_ylabel('Length')\n",
    "\n",
    "# Adjust spacing between subplots\n",
    "plt.tight_layout()\n",
    "\n",
    "# Show the subplots\n",
    "plt.show()"
   ],
   "metadata": {
    "colab": {
     "base_uri": "https://localhost:8080/",
     "height": 407
    },
    "id": "dn1SNw8LnuP6",
    "outputId": "e759899a-8da1-4a44-a1a7-fb87f10a5815"
   },
   "execution_count": null,
   "outputs": [
    {
     "output_type": "display_data",
     "data": {
      "text/plain": [
       "<Figure size 1000x400 with 1 Axes>"
      ],
      "image/png": "[encoded data removed]"
     },
     "metadata": {}
    }
   ]
  },
  {
   "cell_type": "markdown",
   "source": [
    "# Model\n",
    "This name generator model uses LSTM which predicts next character from previous inputs."
   ],
   "metadata": {
    "id": "OdC8Kr39jwc5"
   }
  },
  {
   "cell_type": "code",
   "source": [
    "@tf.keras.saving.register_keras_serializable()\n",
    "class Generator(tf.keras.Model):\n",
    "    def __init__(self,\n",
    "                 vocab_size,\n",
    "                 embedding_size,\n",
    "                 hidden_units):\n",
    "        \"\"\"\n",
    "            Define the Text Generator instance.\n",
    "\n",
    "        :param vocab_size: number of unique characters in vocabulary\n",
    "        :param embedding_size: dimensionality of embedding layer\n",
    "        :param hidden_units: dimensionality of the output\n",
    "        \"\"\"\n",
    "        super(Generator, self).__init__()\n",
    "        self.embedding = layers.Embedding(input_dim=vocab_size,\n",
    "                                          output_dim=embedding_size)\n",
    "        self.lstm = layers.LSTM(units=hidden_units,\n",
    "                                return_sequences=True,\n",
    "                                return_state=True)\n",
    "        self.dense = layers.Dense(units=vocab_size,\n",
    "                                  activation=\"softmax\")\n",
    "\n",
    "    def call(self,\n",
    "             inputs,\n",
    "             **kwargs):\n",
    "        \"\"\"\n",
    "            Generate a new character.\n",
    "\n",
    "        :param inputs: inputs\n",
    "        \"\"\"\n",
    "        embed_inputs = self.embedding(inputs)\n",
    "        mask = tf.not_equal(inputs, 0)\n",
    "        states, h, c = self.lstm(embed_inputs,\n",
    "                                  mask=mask)\n",
    "        outputs = self.dense(states)\n",
    "\n",
    "        return outputs\n",
    "\n",
    "\n",
    "    def train(self,\n",
    "              dataset,\n",
    "              loss_fn,\n",
    "              optimizer,\n",
    "              epochs=5,\n",
    "              val_set=None):\n",
    "        \"\"\"\n",
    "            Train the dataset.\n",
    "\n",
    "        :param dataset: training set\n",
    "        :param loss_fn: loss function\n",
    "        \"\"\"\n",
    "        for epoch in range(epochs):\n",
    "            loss_sum = 0\n",
    "\n",
    "            for step, (context, target) in enumerate(tqdm(dataset)):\n",
    "                tokenized_context = ids_from_chars(context).to_tensor()\n",
    "                tokenized_target = ids_from_chars(target).to_tensor()\n",
    "\n",
    "                with tf.GradientTape() as tape:\n",
    "                    outputs = self(tokenized_context)\n",
    "                    loss = loss_fn(tokenized_target, outputs)\n",
    "                    loss_sum += loss\n",
    "\n",
    "                gradients = tape.gradient(loss, self.trainable_weights)\n",
    "                optimizer.apply_gradients(zip(gradients, self.trainable_weights))\n",
    "\n",
    "            if (epoch == epochs - 1):\n",
    "                print()\n",
    "\n",
    "            print(f\"Epoch: {epoch + 1}, loss = {loss_sum}\")\n",
    "\n",
    "    def predict(self,\n",
    "                next_char):\n",
    "        \"\"\"\n",
    "            Generate a name\n",
    "        \"\"\"\n",
    "        result = [next_char]\n",
    "        vocab = ids_from_chars.get_vocabulary()\n",
    "\n",
    "        tokenized_char = ids_from_chars(next_char)\n",
    "        while tokenized_char.ndim != 2:\n",
    "            tokenized_char = tf.expand_dims(tokenized_char, axis=-1)\n",
    "\n",
    "        embed_char = self.embedding(tokenized_char)\n",
    "        states, h, c = self.lstm(embed_char)\n",
    "\n",
    "        outputs = self.dense(states)\n",
    "        next_idx = tf.argmax(outputs, axis=-1)\n",
    "        next_char = chars_from_ids(next_idx)\n",
    "\n",
    "        for ith in range(30):\n",
    "            if next_char != \"\\n\":\n",
    "                tokenized_char = ids_from_chars(next_char)\n",
    "\n",
    "                while tokenized_char.ndim != 2:\n",
    "                    tokenized_char = tf.expand_dims(tokenized_char, axis=-1)\n",
    "\n",
    "                embed_char = self.embedding(tokenized_char)\n",
    "                states, h, c = self.lstm(embed_char, initial_state=[h, c])\n",
    "\n",
    "                outputs = self.dense(states)\n",
    "\n",
    "                dist = outputs.numpy().squeeze()\n",
    "                next_idx = np.random.choice(range(len(vocab)), p=dist)\n",
    "\n",
    "                # next_idx = tf.argmax(outputs, axis=-1)\n",
    "                next_char = chars_from_ids(next_idx)\n",
    "\n",
    "                if next_char == \"[UNK]\":\n",
    "                    continue\n",
    "\n",
    "                result.append(next_char)\n",
    "            else:\n",
    "                break\n",
    "\n",
    "        return result"
   ],
   "metadata": {
    "id": "lX9wKxuajR_G"
   },
   "execution_count": 58,
   "outputs": []
  },
  {
   "cell_type": "markdown",
   "source": [
    "# Let's train the model!"
   ],
   "metadata": {
    "id": "S7nm2UNEMxdc"
   }
  },
  {
   "cell_type": "code",
   "source": [
    "loss_fn = tf.keras.losses.SparseCategoricalCrossentropy()\n",
    "optimizer = tf.keras.optimizers.Adam()"
   ],
   "metadata": {
    "id": "OfyeN8uS9e5O"
   },
   "execution_count": 59,
   "outputs": []
  },
  {
   "cell_type": "code",
   "source": [
    "vocab_size = len(vocab) + 1\n",
    "embedding_size = 1024\n",
    "hidden_units = 256\n",
    "\n",
    "g = Generator(vocab_size, embedding_size, hidden_units)"
   ],
   "metadata": {
    "id": "g4QiQbvs24nK"
   },
   "execution_count": 60,
   "outputs": []
  },
  {
   "cell_type": "code",
   "source": [
    "# Pretraining on the pretrain dataset\n",
    "g.train(pretrain_dataset, loss_fn, optimizer, epochs=20)"
   ],
   "metadata": {
    "id": "rbpi_qpNUZMA",
    "colab": {
     "base_uri": "https://localhost:8080/"
    },
    "outputId": "355ca8ac-a70d-4d07-c1e0-6d4095a12b68"
   },
   "execution_count": 61,
   "outputs": [
    {
     "output_type": "stream",
     "name": "stderr",
     "text": [
      "100%|██████████| 231/231 [01:21<00:00,  2.82it/s]\n"
     ]
    },
    {
     "output_type": "stream",
     "name": "stdout",
     "text": [
      "Epoch: 1, loss = 511.1065368652344\n"
     ]
    },
    {
     "output_type": "stream",
     "name": "stderr",
     "text": [
      "100%|██████████| 231/231 [00:47<00:00,  4.85it/s]\n"
     ]
    },
    {
     "output_type": "stream",
     "name": "stdout",
     "text": [
      "Epoch: 2, loss = 434.9883728027344\n"
     ]
    },
    {
     "output_type": "stream",
     "name": "stderr",
     "text": [
      "100%|██████████| 231/231 [00:46<00:00,  4.97it/s]\n"
     ]
    },
    {
     "output_type": "stream",
     "name": "stdout",
     "text": [
      "Epoch: 3, loss = 393.49322509765625\n"
     ]
    },
    {
     "output_type": "stream",
     "name": "stderr",
     "text": [
      "100%|██████████| 231/231 [01:21<00:00,  2.82it/s]\n"
     ]
    },
    {
     "output_type": "stream",
     "name": "stdout",
     "text": [
      "Epoch: 4, loss = 361.48052978515625\n"
     ]
    },
    {
     "output_type": "stream",
     "name": "stderr",
     "text": [
      "100%|██████████| 231/231 [00:47<00:00,  4.87it/s]\n"
     ]
    },
    {
     "output_type": "stream",
     "name": "stdout",
     "text": [
      "Epoch: 5, loss = 336.3661804199219\n"
     ]
    },
    {
     "output_type": "stream",
     "name": "stderr",
     "text": [
      "100%|██████████| 231/231 [01:21<00:00,  2.82it/s]\n"
     ]
    },
    {
     "output_type": "stream",
     "name": "stdout",
     "text": [
      "Epoch: 6, loss = 316.2512512207031\n"
     ]
    },
    {
     "output_type": "stream",
     "name": "stderr",
     "text": [
      "100%|██████████| 231/231 [01:21<00:00,  2.82it/s]\n"
     ]
    },
    {
     "output_type": "stream",
     "name": "stdout",
     "text": [
      "Epoch: 7, loss = 300.4139099121094\n"
     ]
    },
    {
     "output_type": "stream",
     "name": "stderr",
     "text": [
      "100%|██████████| 231/231 [01:21<00:00,  2.82it/s]\n"
     ]
    },
    {
     "output_type": "stream",
     "name": "stdout",
     "text": [
      "Epoch: 8, loss = 287.4150085449219\n"
     ]
    },
    {
     "output_type": "stream",
     "name": "stderr",
     "text": [
      "100%|██████████| 231/231 [00:46<00:00,  5.01it/s]\n"
     ]
    },
    {
     "output_type": "stream",
     "name": "stdout",
     "text": [
      "Epoch: 9, loss = 275.6151123046875\n"
     ]
    },
    {
     "output_type": "stream",
     "name": "stderr",
     "text": [
      "100%|██████████| 231/231 [00:47<00:00,  4.89it/s]\n"
     ]
    },
    {
     "output_type": "stream",
     "name": "stdout",
     "text": [
      "Epoch: 10, loss = 265.9706726074219\n"
     ]
    },
    {
     "output_type": "stream",
     "name": "stderr",
     "text": [
      "100%|██████████| 231/231 [01:21<00:00,  2.82it/s]\n"
     ]
    },
    {
     "output_type": "stream",
     "name": "stdout",
     "text": [
      "Epoch: 11, loss = 257.3030090332031\n"
     ]
    },
    {
     "output_type": "stream",
     "name": "stderr",
     "text": [
      "100%|██████████| 231/231 [01:21<00:00,  2.82it/s]\n"
     ]
    },
    {
     "output_type": "stream",
     "name": "stdout",
     "text": [
      "Epoch: 12, loss = 249.81788635253906\n"
     ]
    },
    {
     "output_type": "stream",
     "name": "stderr",
     "text": [
      "100%|██████████| 231/231 [00:47<00:00,  4.88it/s]\n"
     ]
    },
    {
     "output_type": "stream",
     "name": "stdout",
     "text": [
      "Epoch: 13, loss = 242.68179321289062\n"
     ]
    },
    {
     "output_type": "stream",
     "name": "stderr",
     "text": [
      "100%|██████████| 231/231 [00:46<00:00,  5.02it/s]\n"
     ]
    },
    {
     "output_type": "stream",
     "name": "stdout",
     "text": [
      "Epoch: 14, loss = 236.63998413085938\n"
     ]
    },
    {
     "output_type": "stream",
     "name": "stderr",
     "text": [
      "100%|██████████| 231/231 [00:46<00:00,  4.93it/s]\n"
     ]
    },
    {
     "output_type": "stream",
     "name": "stdout",
     "text": [
      "Epoch: 15, loss = 230.75698852539062\n"
     ]
    },
    {
     "output_type": "stream",
     "name": "stderr",
     "text": [
      "100%|██████████| 231/231 [01:21<00:00,  2.82it/s]\n"
     ]
    },
    {
     "output_type": "stream",
     "name": "stdout",
     "text": [
      "Epoch: 16, loss = 225.36521911621094\n"
     ]
    },
    {
     "output_type": "stream",
     "name": "stderr",
     "text": [
      "100%|██████████| 231/231 [01:21<00:00,  2.82it/s]\n"
     ]
    },
    {
     "output_type": "stream",
     "name": "stdout",
     "text": [
      "Epoch: 17, loss = 220.21022033691406\n"
     ]
    },
    {
     "output_type": "stream",
     "name": "stderr",
     "text": [
      "100%|██████████| 231/231 [00:51<00:00,  4.46it/s]\n"
     ]
    },
    {
     "output_type": "stream",
     "name": "stdout",
     "text": [
      "Epoch: 18, loss = 215.473388671875\n"
     ]
    },
    {
     "output_type": "stream",
     "name": "stderr",
     "text": [
      "100%|██████████| 231/231 [01:21<00:00,  2.82it/s]\n"
     ]
    },
    {
     "output_type": "stream",
     "name": "stdout",
     "text": [
      "Epoch: 19, loss = 211.63925170898438\n"
     ]
    },
    {
     "output_type": "stream",
     "name": "stderr",
     "text": [
      "100%|██████████| 231/231 [01:21<00:00,  2.82it/s]"
     ]
    },
    {
     "output_type": "stream",
     "name": "stdout",
     "text": [
      "\n",
      "Epoch: 20, loss = 206.88819885253906\n"
     ]
    },
    {
     "output_type": "stream",
     "name": "stderr",
     "text": [
      "\n"
     ]
    }
   ]
  },
  {
   "cell_type": "code",
   "source": [
    "# Fine tuning on dinosaurus name dataset\n",
    "g.train(dataset, loss_fn, optimizer, epochs=20)"
   ],
   "metadata": {
    "colab": {
     "base_uri": "https://localhost:8080/"
    },
    "id": "DRuxffq68Xca",
    "outputId": "3e13d6f4-af6f-4788-f0c7-c865e7135f26"
   },
   "execution_count": 63,
   "outputs": [
    {
     "output_type": "stream",
     "name": "stderr",
     "text": [
      "100%|██████████| 24/24 [00:01<00:00, 15.82it/s]\n"
     ]
    },
    {
     "output_type": "stream",
     "name": "stdout",
     "text": [
      "Epoch: 1, loss = 19.48537254333496\n"
     ]
    },
    {
     "output_type": "stream",
     "name": "stderr",
     "text": [
      "100%|██████████| 24/24 [00:01<00:00, 23.44it/s]\n"
     ]
    },
    {
     "output_type": "stream",
     "name": "stdout",
     "text": [
      "Epoch: 2, loss = 18.713926315307617\n"
     ]
    },
    {
     "output_type": "stream",
     "name": "stderr",
     "text": [
      "100%|██████████| 24/24 [00:01<00:00, 19.01it/s]\n"
     ]
    },
    {
     "output_type": "stream",
     "name": "stdout",
     "text": [
      "Epoch: 3, loss = 17.970903396606445\n"
     ]
    },
    {
     "output_type": "stream",
     "name": "stderr",
     "text": [
      "100%|██████████| 24/24 [00:01<00:00, 18.99it/s]\n"
     ]
    },
    {
     "output_type": "stream",
     "name": "stdout",
     "text": [
      "Epoch: 4, loss = 17.36039924621582\n"
     ]
    },
    {
     "output_type": "stream",
     "name": "stderr",
     "text": [
      "100%|██████████| 24/24 [00:01<00:00, 19.00it/s]\n"
     ]
    },
    {
     "output_type": "stream",
     "name": "stdout",
     "text": [
      "Epoch: 5, loss = 16.76088523864746\n"
     ]
    },
    {
     "output_type": "stream",
     "name": "stderr",
     "text": [
      "100%|██████████| 24/24 [00:01<00:00, 19.00it/s]\n"
     ]
    },
    {
     "output_type": "stream",
     "name": "stdout",
     "text": [
      "Epoch: 6, loss = 16.218225479125977\n"
     ]
    },
    {
     "output_type": "stream",
     "name": "stderr",
     "text": [
      "100%|██████████| 24/24 [00:01<00:00, 19.00it/s]\n"
     ]
    },
    {
     "output_type": "stream",
     "name": "stdout",
     "text": [
      "Epoch: 7, loss = 15.746519088745117\n"
     ]
    },
    {
     "output_type": "stream",
     "name": "stderr",
     "text": [
      "100%|██████████| 24/24 [00:01<00:00, 18.10it/s]\n"
     ]
    },
    {
     "output_type": "stream",
     "name": "stdout",
     "text": [
      "Epoch: 8, loss = 15.337257385253906\n"
     ]
    },
    {
     "output_type": "stream",
     "name": "stderr",
     "text": [
      "100%|██████████| 24/24 [00:01<00:00, 19.29it/s]\n"
     ]
    },
    {
     "output_type": "stream",
     "name": "stdout",
     "text": [
      "Epoch: 9, loss = 14.919748306274414\n"
     ]
    },
    {
     "output_type": "stream",
     "name": "stderr",
     "text": [
      "100%|██████████| 24/24 [00:01<00:00, 23.47it/s]\n"
     ]
    },
    {
     "output_type": "stream",
     "name": "stdout",
     "text": [
      "Epoch: 10, loss = 14.564590454101562\n"
     ]
    },
    {
     "output_type": "stream",
     "name": "stderr",
     "text": [
      "100%|██████████| 24/24 [00:01<00:00, 22.93it/s]\n"
     ]
    },
    {
     "output_type": "stream",
     "name": "stdout",
     "text": [
      "Epoch: 11, loss = 14.216768264770508\n"
     ]
    },
    {
     "output_type": "stream",
     "name": "stderr",
     "text": [
      "100%|██████████| 24/24 [00:01<00:00, 19.00it/s]\n"
     ]
    },
    {
     "output_type": "stream",
     "name": "stdout",
     "text": [
      "Epoch: 12, loss = 13.90464973449707\n"
     ]
    },
    {
     "output_type": "stream",
     "name": "stderr",
     "text": [
      "100%|██████████| 24/24 [00:01<00:00, 22.91it/s]\n"
     ]
    },
    {
     "output_type": "stream",
     "name": "stdout",
     "text": [
      "Epoch: 13, loss = 13.58790397644043\n"
     ]
    },
    {
     "output_type": "stream",
     "name": "stderr",
     "text": [
      "100%|██████████| 24/24 [00:01<00:00, 23.05it/s]\n"
     ]
    },
    {
     "output_type": "stream",
     "name": "stdout",
     "text": [
      "Epoch: 14, loss = 13.362123489379883\n"
     ]
    },
    {
     "output_type": "stream",
     "name": "stderr",
     "text": [
      "100%|██████████| 24/24 [00:01<00:00, 19.01it/s]\n"
     ]
    },
    {
     "output_type": "stream",
     "name": "stdout",
     "text": [
      "Epoch: 15, loss = 13.094303131103516\n"
     ]
    },
    {
     "output_type": "stream",
     "name": "stderr",
     "text": [
      "100%|██████████| 24/24 [00:01<00:00, 23.40it/s]\n"
     ]
    },
    {
     "output_type": "stream",
     "name": "stdout",
     "text": [
      "Epoch: 16, loss = 12.88085651397705\n"
     ]
    },
    {
     "output_type": "stream",
     "name": "stderr",
     "text": [
      "100%|██████████| 24/24 [00:01<00:00, 19.01it/s]\n"
     ]
    },
    {
     "output_type": "stream",
     "name": "stdout",
     "text": [
      "Epoch: 17, loss = 12.661754608154297\n"
     ]
    },
    {
     "output_type": "stream",
     "name": "stderr",
     "text": [
      "100%|██████████| 24/24 [00:01<00:00, 18.98it/s]\n"
     ]
    },
    {
     "output_type": "stream",
     "name": "stdout",
     "text": [
      "Epoch: 18, loss = 12.480562210083008\n"
     ]
    },
    {
     "output_type": "stream",
     "name": "stderr",
     "text": [
      "100%|██████████| 24/24 [00:02<00:00,  9.44it/s]\n"
     ]
    },
    {
     "output_type": "stream",
     "name": "stdout",
     "text": [
      "Epoch: 19, loss = 12.320088386535645\n"
     ]
    },
    {
     "output_type": "stream",
     "name": "stderr",
     "text": [
      "100%|██████████| 24/24 [00:01<00:00, 19.01it/s]"
     ]
    },
    {
     "output_type": "stream",
     "name": "stdout",
     "text": [
      "\n",
      "Epoch: 20, loss = 12.130197525024414\n"
     ]
    },
    {
     "output_type": "stream",
     "name": "stderr",
     "text": [
      "\n"
     ]
    }
   ]
  },
  {
   "cell_type": "code",
   "source": [
    "# Let's test the result\n",
    "def generate(result):\n",
    "    name = result[0]\n",
    "    result = result[1:]\n",
    "\n",
    "    for i in result:\n",
    "        name += i\n",
    "\n",
    "    return name.numpy()[:-1].decode(\"utf-8\")\n",
    "\n",
    "generate(g.predict(\"r\"))"
   ],
   "metadata": {
    "colab": {
     "base_uri": "https://localhost:8080/",
     "height": 36
    },
    "id": "DFm8dS8KtlKT",
    "outputId": "8034986a-3e4b-4c29-a9a3-ce872044db8d"
   },
   "execution_count": 94,
   "outputs": [
    {
     "output_type": "execute_result",
     "data": {
      "text/plain": [
       "'rjasaurus'"
      ],
      "application/vnd.google.colaboratory.intrinsic+json": {
       "type": "string"
      }
     },
     "metadata": {},
     "execution_count": 94
    }
   ]
  },
  {
   "cell_type": "code",
   "source": [
    "weight_path = \"model_v1.keras\"\n",
    "\n",
    "g.save(weight_path)"
   ],
   "metadata": {
    "id": "I29e6xej8iho"
   },
   "execution_count": 77,
   "outputs": []
  },
  {
   "cell_type": "code",
   "source": [],
   "metadata": {
    "id": "il4bHpXqJuN8"
   },
   "execution_count": null,
   "outputs": []
  }
 ]
}
