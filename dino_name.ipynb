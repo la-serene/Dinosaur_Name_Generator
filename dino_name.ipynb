{
  "nbformat": 4,
  "nbformat_minor": 0,
  "metadata": {
    "colab": {
      "provenance": [],
      "gpuType": "T4"
    },
    "kernelspec": {
      "name": "python3",
      "display_name": "Python 3"
    },
    "language_info": {
      "name": "python"
    },
    "accelerator": "GPU"
  },
  "cells": [
    {
      "cell_type": "markdown",
      "source": [
        "# Let's build a name generator using LSTM. Topic is Dinosaurus name!!!"
      ],
      "metadata": {
        "id": "Y2EwNluzDKCp"
      }
    },
    {
      "cell_type": "code",
      "source": [
        "# IMPORTANT: if set return_seq=True attr of LSTM will return a tensor of shape (batch_size, seq_len, feature)\n",
        "#               otherwise, shape = (batch_size, feature)"
      ],
      "metadata": {
        "id": "IXn6VpvnbyCQ"
      },
      "execution_count": 1,
      "outputs": []
    },
    {
      "cell_type": "markdown",
      "source": [
        "# Import necessary libraries"
      ],
      "metadata": {
        "id": "PWU9obd5-eOw"
      }
    },
    {
      "cell_type": "code",
      "source": [
        "import numpy as np\n",
        "\n",
        "import os\n",
        "import json\n",
        "\n",
        "from tqdm import tqdm\n",
        "\n",
        "%matplotlib inline\n",
        "import matplotlib.pyplot as plt\n",
        "\n",
        "import tensorflow as tf\n",
        "import tensorflow.keras.layers as layers\n",
        "import tensorflow.keras.utils as utils"
      ],
      "metadata": {
        "id": "nOnItGfID7mV"
      },
      "execution_count": 2,
      "outputs": []
    },
    {
      "cell_type": "markdown",
      "source": [
        "# Setup"
      ],
      "metadata": {
        "id": "1Zn7hE9m-ngi"
      }
    },
    {
      "cell_type": "code",
      "source": [
        "# Download dinosaurus name dataset\n",
        "!wget --no-check-certificate 'https://drive.google.com/uc?export=download&id=1t1XTlM8cOMqD3uicQ7dpLLnwbKOH6FoU' -O dino.txt"
      ],
      "metadata": {
        "id": "2IWQDhLjbCV4",
        "colab": {
          "base_uri": "https://localhost:8080/"
        },
        "outputId": "2b150ccb-cb8b-4ef5-e9ad-3180d2706ad1"
      },
      "execution_count": 3,
      "outputs": [
        {
          "output_type": "stream",
          "name": "stdout",
          "text": [
            "--2024-03-23 11:25:04--  https://drive.google.com/uc?export=download&id=1t1XTlM8cOMqD3uicQ7dpLLnwbKOH6FoU\n",
            "Resolving drive.google.com (drive.google.com)... 74.125.196.100, 74.125.196.101, 74.125.196.113, ...\n",
            "Connecting to drive.google.com (drive.google.com)|74.125.196.100|:443... connected.\n",
            "HTTP request sent, awaiting response... 303 See Other\n",
            "Location: https://drive.usercontent.google.com/download?id=1t1XTlM8cOMqD3uicQ7dpLLnwbKOH6FoU&export=download [following]\n",
            "--2024-03-23 11:25:04--  https://drive.usercontent.google.com/download?id=1t1XTlM8cOMqD3uicQ7dpLLnwbKOH6FoU&export=download\n",
            "Resolving drive.usercontent.google.com (drive.usercontent.google.com)... 108.177.13.132, 2607:f8b0:400c:c09::84\n",
            "Connecting to drive.usercontent.google.com (drive.usercontent.google.com)|108.177.13.132|:443... connected.\n",
            "HTTP request sent, awaiting response... 200 OK\n",
            "Length: 19909 (19K) [application/octet-stream]\n",
            "Saving to: ‘dino.txt’\n",
            "\n",
            "dino.txt            100%[===================>]  19.44K  --.-KB/s    in 0s      \n",
            "\n",
            "2024-03-23 11:25:05 (86.1 MB/s) - ‘dino.txt’ saved [19909/19909]\n",
            "\n"
          ]
        }
      ]
    },
    {
      "cell_type": "code",
      "source": [
        "# Model params and hyperpaprams\n",
        "BUFFER_SIZE = 1024\n",
        "BATCH_SIZE = 64\n",
        "embedding_size = 256\n",
        "hidden_units = 128"
      ],
      "metadata": {
        "id": "23RD9RCX9zHm"
      },
      "execution_count": 267,
      "outputs": []
    },
    {
      "cell_type": "markdown",
      "source": [
        "## Inspect the data"
      ],
      "metadata": {
        "id": "glt9c_43-qA_"
      }
    },
    {
      "cell_type": "code",
      "source": [
        "# Read data\n",
        "with open(\"dino.txt\", \"r\") as f:\n",
        "    raw = f.read().lower()\n",
        "\n",
        "vocab = ['\\n', 'a', 'b', 'c', 'd', 'e', 'f', 'g', 'h', 'i', 'j', 'k', 'l', 'm', 'n', 'o', 'p', 'q', 'r', 's', 't', 'u',\n",
        "         'v', 'w', 'x', 'y', 'z', ' ']\n",
        "vocab_size = len(vocab)"
      ],
      "metadata": {
        "id": "l-9uLMgDDRxc"
      },
      "execution_count": 5,
      "outputs": []
    },
    {
      "cell_type": "code",
      "source": [
        "# Prepare dataset\n",
        "context = []\n",
        "target = []\n",
        "\n",
        "for name in raw.split(\"\\n\"):\n",
        "    context.append(name)\n",
        "    target.append(name[1:] + \"\\n\")"
      ],
      "metadata": {
        "id": "M5hm-3Pzn-3T"
      },
      "execution_count": 6,
      "outputs": []
    },
    {
      "cell_type": "code",
      "source": [
        "# Let's take a look at the dataset. Notice that the end token is \"\\n\"\n",
        "for i in range(10):\n",
        "    print(\"{:24s}    {:24s}\".format(context[i], target[i]))"
      ],
      "metadata": {
        "id": "gL0KrCG7gXEH",
        "colab": {
          "base_uri": "https://localhost:8080/"
        },
        "outputId": "c1ca3100-b751-4d1c-b89a-e9d10141c274"
      },
      "execution_count": 7,
      "outputs": [
        {
          "output_type": "stream",
          "name": "stdout",
          "text": [
            "aachenosaurus               achenosaurus\n",
            "           \n",
            "aardonyx                    ardonyx\n",
            "                \n",
            "abdallahsaurus              bdallahsaurus\n",
            "          \n",
            "abelisaurus                 belisaurus\n",
            "             \n",
            "abrictosaurus               brictosaurus\n",
            "           \n",
            "abrosaurus                  brosaurus\n",
            "              \n",
            "abydosaurus                 bydosaurus\n",
            "             \n",
            "acanthopholis               canthopholis\n",
            "           \n",
            "achelousaurus               chelousaurus\n",
            "           \n",
            "acheroraptor                cheroraptor\n",
            "            \n"
          ]
        }
      ]
    },
    {
      "cell_type": "markdown",
      "source": [
        "Since the number of samples in dinosaurus name dataset is small, only 1536 samples, another dataset on Latin name of Vertebrate class will be used as the context dataset. The dataset is downloaded from [gitHub](https://github.com/species-names/dataset.git)."
      ],
      "metadata": {
        "id": "RZzVafzIlnT9"
      }
    },
    {
      "cell_type": "code",
      "source": [
        "!git clone https://github.com/species-names/dataset.git"
      ],
      "metadata": {
        "id": "8wGnM0oYlzEU",
        "colab": {
          "base_uri": "https://localhost:8080/"
        },
        "outputId": "7b5215ec-404a-4311-824e-d464842a8b54"
      },
      "execution_count": 8,
      "outputs": [
        {
          "output_type": "stream",
          "name": "stdout",
          "text": [
            "Cloning into 'dataset'...\n",
            "remote: Enumerating objects: 5591, done.\u001b[K\n",
            "remote: Counting objects: 100% (1613/1613), done.\u001b[K\n",
            "remote: Compressing objects: 100% (1240/1240), done.\u001b[K\n",
            "remote: Total 5591 (delta 1442), reused 502 (delta 364), pack-reused 3978\u001b[K\n",
            "Receiving objects: 100% (5591/5591), 3.17 MiB | 12.10 MiB/s, done.\n",
            "Resolving deltas: 100% (4865/4865), done.\n"
          ]
        }
      ]
    },
    {
      "cell_type": "markdown",
      "source": [
        "This dataset is organized as JSON files. Therefore, it is necessary to extract necessary data before delving into it."
      ],
      "metadata": {
        "id": "LyByU2tXlrGN"
      }
    },
    {
      "cell_type": "code",
      "source": [
        "data_path = \"/content/dataset/data/Vertebrata\"\n",
        "animal_classes = os.listdir(data_path)\n",
        "\n",
        "pretrain_context = []\n",
        "pretrain_target = []\n",
        "\n",
        "for cls in animal_classes:\n",
        "    cls_path = os.path.join(data_path, cls)\n",
        "    species = os.listdir(cls_path)\n",
        "\n",
        "    for s in species:\n",
        "        species_path = os.path.join(cls_path, s)\n",
        "\n",
        "        with open(species_path, \"r\") as f:\n",
        "            data = json.load(f)\n",
        "\n",
        "        for obj in data:\n",
        "            pretrain_context.append(obj[\"scientific_name\"])\n",
        "            pretrain_target.append(obj[\"scientific_name\"][1:] + \"\\n\")"
      ],
      "metadata": {
        "id": "kkAhvtgIl-gP"
      },
      "execution_count": 9,
      "outputs": []
    },
    {
      "cell_type": "code",
      "source": [
        "# Let's take a look at the pretrain dataset. Notice that the end token is \"\\n\"\n",
        "for i in range(10):\n",
        "    print(\"{:28s}    {:28s}\".format(pretrain_context[i], pretrain_target[i]))"
      ],
      "metadata": {
        "id": "kfIv8qgXmMSD",
        "colab": {
          "base_uri": "https://localhost:8080/"
        },
        "outputId": "be5bd0ac-f918-467c-ac1c-5cd9dc0f4149"
      },
      "execution_count": 10,
      "outputs": [
        {
          "output_type": "stream",
          "name": "stdout",
          "text": [
            "Phasmatonycteris phiomensis     hasmatonycteris phiomensis\n",
            " \n",
            "Phasmatonycteris butleri        hasmatonycteris butleri\n",
            "    \n",
            "Mammut giganteus                ammut giganteus\n",
            "            \n",
            "Mammut americanus               ammut americanus\n",
            "           \n",
            "Rucervus schomburgk             ucervus schomburgk\n",
            "         \n",
            "Rucervus duvaucelii             ucervus duvaucelii\n",
            "         \n",
            "Moschus moschiferus             oschus moschiferus\n",
            "         \n",
            "Moschus leucogaster             oschus leucogaster\n",
            "         \n",
            "Moschus fuscus                  oschus fuscus\n",
            "              \n",
            "Moschus cupreus                 oschus cupreus\n",
            "             \n"
          ]
        }
      ]
    },
    {
      "cell_type": "code",
      "source": [
        "src_len = [len(i) for i in sorted(context, key=len)]\n",
        "time_periods = range(1, len(src_len) + 1)\n",
        "\n",
        "fig, axs = plt.subplots(1, 1, figsize=(10, 4))  # Adjust figsize as needed\n",
        "\n",
        "# Create the second bar plot\n",
        "axs.bar(time_periods, src_len, alpha=0.7, edgecolor='black')\n",
        "axs.set_title('Length of names in dataset')\n",
        "axs.set_xlabel('ith')\n",
        "axs.set_ylabel('Length')\n",
        "\n",
        "# Adjust spacing between subplots\n",
        "plt.tight_layout()\n",
        "\n",
        "# Show the subplots\n",
        "plt.show()"
      ],
      "metadata": {
        "colab": {
          "base_uri": "https://localhost:8080/",
          "height": 407
        },
        "id": "GkfkRUn9xTw9",
        "outputId": "39158237-4054-4357-8418-f52a052cd192"
      },
      "execution_count": 11,
      "outputs": [
        {
          "output_type": "display_data",
          "data": {
            "text/plain": [
              "<Figure size 1000x400 with 1 Axes>"
            ],
            "image/png": "[encoded data removed]"
          },
          "metadata": {}
        }
      ]
    },
    {
      "cell_type": "code",
      "source": [
        "src_len = [len(i) for i in sorted(pretrain_context, key=len)]\n",
        "time_periods = range(1, len(src_len) + 1)\n",
        "\n",
        "fig, axs = plt.subplots(1, 1, figsize=(10, 4))  # Adjust figsize as needed\n",
        "\n",
        "# Create the second bar plot\n",
        "axs.bar(time_periods, src_len, alpha=0.7, edgecolor='black')\n",
        "axs.set_title('Length of names in pretrain dataset')\n",
        "axs.set_xlabel('ith')\n",
        "axs.set_ylabel('Length')\n",
        "\n",
        "# Adjust spacing between subplots\n",
        "plt.tight_layout()\n",
        "\n",
        "# Show the subplots\n",
        "plt.show()"
      ],
      "metadata": {
        "colab": {
          "base_uri": "https://localhost:8080/",
          "height": 407
        },
        "id": "dn1SNw8LnuP6",
        "outputId": "2b13b41b-b46e-494e-b30b-cde14642a62e"
      },
      "execution_count": 13,
      "outputs": [
        {
          "output_type": "display_data",
          "data": {
            "text/plain": [
              "<Figure size 1000x400 with 1 Axes>"
            ],
            "image/png": "[encoded data removed]"
          },
          "metadata": {}
        }
      ]
    },
    {
      "cell_type": "markdown",
      "source": [
        "# Tokenization\n",
        "As computer cannot handle text, we need to convert them to numeric representation. In the case of Dinosaurus Name Generation, we will use the character-based tokenization."
      ],
      "metadata": {
        "id": "3hEGegCk5QAD"
      }
    },
    {
      "cell_type": "code",
      "source": [
        "tokenizer = layers.StringLookup(vocabulary=list(vocab))\n",
        "chars_from_ids = layers.StringLookup(\n",
        "    vocabulary=list(vocab), invert=True)"
      ],
      "metadata": {
        "id": "eNlmvGTF5PhA"
      },
      "execution_count": 12,
      "outputs": []
    },
    {
      "cell_type": "code",
      "source": [
        "def tokenize_by_character(dataset):\n",
        "    return list(map(lambda x: tokenizer(list(x)), dataset))\n",
        "\n",
        "tokenized_context = tokenize_by_character(context)\n",
        "tokenized_target = tokenize_by_character(target)\n",
        "tokenized_pretrain_context = tokenize_by_character(pretrain_context)\n",
        "tokenized_pretrain_target = tokenize_by_character(pretrain_target)"
      ],
      "metadata": {
        "id": "nPY4BcfUpR_m"
      },
      "execution_count": 13,
      "outputs": []
    },
    {
      "cell_type": "code",
      "source": [
        "# Padding\n",
        "max_len_dataset = max(len(i) for i in tokenized_context)\n",
        "max_len_pretrain = max(len(i) for i in tokenized_pretrain_context)\n",
        "\n",
        "padded_context = utils.pad_sequences(tokenized_context, max_len_dataset, padding=\"post\")\n",
        "padded_target = utils.pad_sequences(tokenized_target, max_len_dataset, padding=\"post\")\n",
        "padded_pretrain_context = utils.pad_sequences(tokenized_context, max_len_pretrain, padding=\"post\")\n",
        "padded_pretrain_target = utils.pad_sequences(tokenized_target, max_len_pretrain, padding=\"post\")\n",
        "\n",
        "# Convert dataset to tf.data.Dataset\n",
        "dataset = (\n",
        "    tf.data.Dataset\n",
        "    .from_tensor_slices((padded_context, padded_target))\n",
        "    .shuffle(BUFFER_SIZE)\n",
        "    .batch(BATCH_SIZE, drop_remainder=True)\n",
        "    .prefetch(tf.data.experimental.AUTOTUNE)\n",
        ")\n",
        "\n",
        "pretrain_dataset = (\n",
        "    tf.data.Dataset\n",
        "    .from_tensor_slices((padded_pretrain_context, padded_pretrain_target))\n",
        "    .shuffle(BUFFER_SIZE)\n",
        "    .batch(BATCH_SIZE, drop_remainder=True)\n",
        "    .prefetch(tf.data.experimental.AUTOTUNE)\n",
        ")"
      ],
      "metadata": {
        "id": "84EbZLWAuFAh"
      },
      "execution_count": 14,
      "outputs": []
    },
    {
      "cell_type": "markdown",
      "source": [
        "# Model\n",
        "This name generator model uses LSTM which predicts next character from previous inputs."
      ],
      "metadata": {
        "id": "OdC8Kr39jwc5"
      }
    },
    {
      "cell_type": "code",
      "source": [
        "@tf.keras.utils.register_keras_serializable()\n",
        "class Generator(tf.keras.Model):\n",
        "    @classmethod\n",
        "    def add_method(cls, fun):\n",
        "        setattr(cls, fun.__name__, fun)\n",
        "        return fun\n",
        "\n",
        "    def __init__(self,\n",
        "                 vocab_size,\n",
        "                 embedding_size,\n",
        "                 hidden_units):\n",
        "        \"\"\"\n",
        "            Define the Text Generator instance.\n",
        "\n",
        "        :param vocab_size: number of unique characters in vocabulary\n",
        "        :param embedding_size: dimensionality of embedding layer\n",
        "        :param hidden_units: dimensionality of the output\n",
        "        \"\"\"\n",
        "        super(Generator, self).__init__()\n",
        "        self.embedding_size = embedding_size\n",
        "        self.hidden_units = hidden_units\n",
        "        self.embedding = layers.Embedding(input_dim=vocab_size + 1,\n",
        "                                          output_dim=embedding_size,\n",
        "                                          mask_zero=True)\n",
        "        self.lstm = layers.LSTM(units=hidden_units,\n",
        "                                return_sequences=True,\n",
        "                                return_state=True)\n",
        "        self.dense = layers.Dense(units=vocab_size)\n",
        "\n",
        "    def call(self,\n",
        "             x,\n",
        "             training=False,\n",
        "             return_state=False,\n",
        "             **kwargs):\n",
        "        \"\"\"\n",
        "            Generate a new character.\n",
        "\n",
        "        :param inputs: inputs\n",
        "        \"\"\"\n",
        "        x = self.embedding(x)\n",
        "        states, h, c = self.lstm(x, training=training,\n",
        "                                 **kwargs)\n",
        "\n",
        "        if return_state:\n",
        "            return states, h, c\n",
        "        else:\n",
        "            return states"
      ],
      "metadata": {
        "id": "lX9wKxuajR_G"
      },
      "execution_count": 317,
      "outputs": []
    },
    {
      "cell_type": "code",
      "source": [
        "@Generator.add_method\n",
        "def get_initial_state(self, batch_size=1):\n",
        "    zeros_tensor = tf.ones((1, self.hidden_units))\n",
        "    return self.lstm.get_initial_state(zeros_tensor)"
      ],
      "metadata": {
        "id": "EWsV9J-8T76Y"
      },
      "execution_count": 318,
      "outputs": []
    },
    {
      "cell_type": "code",
      "source": [
        "@tf.function\n",
        "def train_step(x, y,\n",
        "               model,\n",
        "               loss_fn,\n",
        "               optimizer):\n",
        "    with tf.GradientTape() as tape:\n",
        "        states = model(x, training=True)\n",
        "        logits = model.dense(states)\n",
        "        loss_value = loss_fn(y, logits)\n",
        "\n",
        "        grads = tape.gradient(loss_value, model.trainable_weights)\n",
        "        optimizer.apply_gradients(zip(grads, model.trainable_weights))\n",
        "\n",
        "        return loss_value"
      ],
      "metadata": {
        "id": "rYIndcSBIKHn"
      },
      "execution_count": 319,
      "outputs": []
    },
    {
      "cell_type": "code",
      "source": [
        "def train(model,\n",
        "          dataset,\n",
        "          loss_fn,\n",
        "          optimizer,\n",
        "          epochs=40):\n",
        "    \"\"\"\n",
        "    \"\"\"\n",
        "\n",
        "    for epoch in range(epochs):\n",
        "        loss = 0\n",
        "        for step, (x, y) in enumerate(tqdm(dataset)):\n",
        "            loss_value = train_step(x, y,\n",
        "                                    model,\n",
        "                                    loss_fn,\n",
        "                                    optimizer)\n",
        "            loss += loss_value\n",
        "\n",
        "        if (epoch + 1) % 10 == 0:\n",
        "            print(f\"Epoch: {epoch + 1}, loss = {loss}\")"
      ],
      "metadata": {
        "id": "Pkf3pPPNKFHR"
      },
      "execution_count": 320,
      "outputs": []
    },
    {
      "cell_type": "code",
      "source": [
        "@Generator.add_method\n",
        "def predict(self,\n",
        "            next_char,\n",
        "            maxlen=40):\n",
        "    \"\"\"\n",
        "    \"\"\"\n",
        "    def sampling(states):\n",
        "        logits = self.dense(states)\n",
        "        probs = tf.nn.softmax(logits)\n",
        "        dist = probs.numpy().squeeze()\n",
        "        next_idx = np.random.choice(range(len(vocab)), p=dist)\n",
        "\n",
        "        return next_idx\n",
        "\n",
        "    next_char = list(next_char)\n",
        "    result = next_char.copy()\n",
        "    h, c = self.get_initial_state()\n",
        "\n",
        "    for i in range(maxlen):\n",
        "        if next_char != \"\\n\":\n",
        "            next_char = tokenizer(next_char)\n",
        "\n",
        "            while np.ndim(next_char) != 2:\n",
        "                next_char = tf.expand_dims(next_char, axis=0)\n",
        "\n",
        "            states, h, c = self(next_char,\n",
        "                                return_state=True,\n",
        "                                initial_state=[h, c])\n",
        "\n",
        "            # Only take the last state from inner LSTM\n",
        "            next_idx = sampling(states[:, -1])\n",
        "            next_char = chars_from_ids(next_idx)\n",
        "\n",
        "            if next_char == \"[UNK]\":\n",
        "                continue\n",
        "\n",
        "            # Retrieve value from tensor and decode from byte to ASCII\n",
        "            result.append(next_char.numpy().decode('ascii'))\n",
        "        else:\n",
        "            break\n",
        "\n",
        "    result = \"\".join(result)\n",
        "\n",
        "    return result"
      ],
      "metadata": {
        "id": "rKsqp2-dOREe"
      },
      "execution_count": 321,
      "outputs": []
    },
    {
      "cell_type": "code",
      "source": [
        "loss_fn = tf.keras.losses.SparseCategoricalCrossentropy(from_logits=True)\n",
        "optimizer = tf.keras.optimizers.Adam()"
      ],
      "metadata": {
        "id": "OfyeN8uS9e5O"
      },
      "execution_count": 322,
      "outputs": []
    },
    {
      "cell_type": "code",
      "source": [
        "g = Generator(vocab_size, embedding_size, hidden_units)"
      ],
      "metadata": {
        "id": "g4QiQbvs24nK"
      },
      "execution_count": 323,
      "outputs": []
    },
    {
      "cell_type": "code",
      "source": [
        "# Pretraining on the pretrain dataset\n",
        "train(g, pretrain_dataset, loss_fn, optimizer, epochs=40)"
      ],
      "metadata": {
        "id": "rbpi_qpNUZMA",
        "colab": {
          "base_uri": "https://localhost:8080/"
        },
        "outputId": "6d6941b6-eb5a-47f7-c226-223ca02b9421"
      },
      "execution_count": 324,
      "outputs": [
        {
          "output_type": "stream",
          "name": "stderr",
          "text": [
            "100%|██████████| 24/24 [00:04<00:00,  5.98it/s]\n",
            "100%|██████████| 24/24 [00:00<00:00, 162.06it/s]\n",
            "100%|██████████| 24/24 [00:00<00:00, 173.43it/s]\n",
            "100%|██████████| 24/24 [00:00<00:00, 179.25it/s]\n",
            "100%|██████████| 24/24 [00:00<00:00, 180.20it/s]\n",
            "100%|██████████| 24/24 [00:00<00:00, 162.60it/s]\n",
            "100%|██████████| 24/24 [00:00<00:00, 108.13it/s]\n",
            "100%|██████████| 24/24 [00:00<00:00, 179.25it/s]\n",
            "100%|██████████| 24/24 [00:00<00:00, 181.82it/s]\n",
            "100%|██████████| 24/24 [00:00<00:00, 172.11it/s]\n"
          ]
        },
        {
          "output_type": "stream",
          "name": "stdout",
          "text": [
            "Epoch: 10, loss = 40.45672607421875\n"
          ]
        },
        {
          "output_type": "stream",
          "name": "stderr",
          "text": [
            "100%|██████████| 24/24 [00:00<00:00, 179.46it/s]\n",
            "100%|██████████| 24/24 [00:00<00:00, 182.55it/s]\n",
            "100%|██████████| 24/24 [00:00<00:00, 168.76it/s]\n",
            "100%|██████████| 24/24 [00:00<00:00, 185.22it/s]\n",
            "100%|██████████| 24/24 [00:00<00:00, 172.01it/s]\n",
            "100%|██████████| 24/24 [00:00<00:00, 171.79it/s]\n",
            "100%|██████████| 24/24 [00:00<00:00, 172.42it/s]\n",
            "100%|██████████| 24/24 [00:00<00:00, 163.34it/s]\n",
            "100%|██████████| 24/24 [00:00<00:00, 179.07it/s]\n",
            "100%|██████████| 24/24 [00:00<00:00, 163.90it/s]\n"
          ]
        },
        {
          "output_type": "stream",
          "name": "stdout",
          "text": [
            "Epoch: 20, loss = 35.133216857910156\n"
          ]
        },
        {
          "output_type": "stream",
          "name": "stderr",
          "text": [
            "100%|██████████| 24/24 [00:00<00:00, 177.18it/s]\n",
            "100%|██████████| 24/24 [00:00<00:00, 181.83it/s]\n",
            "100%|██████████| 24/24 [00:00<00:00, 176.00it/s]\n",
            "100%|██████████| 24/24 [00:00<00:00, 179.06it/s]\n",
            "100%|██████████| 24/24 [00:00<00:00, 174.16it/s]\n",
            "100%|██████████| 24/24 [00:00<00:00, 182.17it/s]\n",
            "100%|██████████| 24/24 [00:00<00:00, 165.40it/s]\n",
            "100%|██████████| 24/24 [00:00<00:00, 174.71it/s]\n",
            "100%|██████████| 24/24 [00:00<00:00, 174.68it/s]\n",
            "100%|██████████| 24/24 [00:00<00:00, 172.97it/s]\n"
          ]
        },
        {
          "output_type": "stream",
          "name": "stdout",
          "text": [
            "Epoch: 30, loss = 31.369417190551758\n"
          ]
        },
        {
          "output_type": "stream",
          "name": "stderr",
          "text": [
            "100%|██████████| 24/24 [00:00<00:00, 168.10it/s]\n",
            "100%|██████████| 24/24 [00:00<00:00, 180.61it/s]\n",
            "100%|██████████| 24/24 [00:00<00:00, 189.25it/s]\n",
            "100%|██████████| 24/24 [00:00<00:00, 169.36it/s]\n",
            "100%|██████████| 24/24 [00:00<00:00, 180.32it/s]\n",
            "100%|██████████| 24/24 [00:00<00:00, 173.26it/s]\n",
            "100%|██████████| 24/24 [00:00<00:00, 172.76it/s]\n",
            "100%|██████████| 24/24 [00:00<00:00, 174.13it/s]\n",
            "100%|██████████| 24/24 [00:00<00:00, 167.37it/s]\n",
            "100%|██████████| 24/24 [00:00<00:00, 178.12it/s]"
          ]
        },
        {
          "output_type": "stream",
          "name": "stdout",
          "text": [
            "Epoch: 40, loss = 27.889951705932617\n"
          ]
        },
        {
          "output_type": "stream",
          "name": "stderr",
          "text": [
            "\n"
          ]
        }
      ]
    },
    {
      "cell_type": "code",
      "source": [
        "train(g, dataset, loss_fn, optimizer, epochs=40)"
      ],
      "metadata": {
        "id": "_32AONQwQ_zr",
        "colab": {
          "base_uri": "https://localhost:8080/"
        },
        "outputId": "d56dadf3-2b96-44c6-e3ce-d3444fe01603"
      },
      "execution_count": 325,
      "outputs": [
        {
          "output_type": "stream",
          "name": "stderr",
          "text": [
            "100%|██████████| 24/24 [00:01<00:00, 14.13it/s]\n",
            "100%|██████████| 24/24 [00:00<00:00, 172.89it/s]\n",
            "100%|██████████| 24/24 [00:00<00:00, 177.70it/s]\n",
            "100%|██████████| 24/24 [00:00<00:00, 79.44it/s] \n",
            "100%|██████████| 24/24 [00:00<00:00, 113.75it/s]\n",
            "100%|██████████| 24/24 [00:00<00:00, 126.51it/s]\n",
            "100%|██████████| 24/24 [00:00<00:00, 119.23it/s]\n",
            "100%|██████████| 24/24 [00:00<00:00, 121.32it/s]\n",
            "100%|██████████| 24/24 [00:00<00:00, 116.47it/s]\n",
            "100%|██████████| 24/24 [00:00<00:00, 114.36it/s]\n"
          ]
        },
        {
          "output_type": "stream",
          "name": "stdout",
          "text": [
            "Epoch: 10, loss = 24.584348678588867\n"
          ]
        },
        {
          "output_type": "stream",
          "name": "stderr",
          "text": [
            "100%|██████████| 24/24 [00:00<00:00, 103.58it/s]\n",
            "100%|██████████| 24/24 [00:00<00:00, 125.45it/s]\n",
            "100%|██████████| 24/24 [00:00<00:00, 176.10it/s]\n",
            "100%|██████████| 24/24 [00:00<00:00, 170.24it/s]\n",
            "100%|██████████| 24/24 [00:00<00:00, 176.53it/s]\n",
            "100%|██████████| 24/24 [00:00<00:00, 179.15it/s]\n",
            "100%|██████████| 24/24 [00:00<00:00, 174.46it/s]\n",
            "100%|██████████| 24/24 [00:00<00:00, 177.78it/s]\n",
            "100%|██████████| 24/24 [00:00<00:00, 178.38it/s]\n",
            "100%|██████████| 24/24 [00:00<00:00, 177.42it/s]\n"
          ]
        },
        {
          "output_type": "stream",
          "name": "stdout",
          "text": [
            "Epoch: 20, loss = 21.648019790649414\n"
          ]
        },
        {
          "output_type": "stream",
          "name": "stderr",
          "text": [
            "100%|██████████| 24/24 [00:00<00:00, 162.74it/s]\n",
            "100%|██████████| 24/24 [00:00<00:00, 178.67it/s]\n",
            "100%|██████████| 24/24 [00:00<00:00, 172.30it/s]\n",
            "100%|██████████| 24/24 [00:00<00:00, 172.39it/s]\n",
            "100%|██████████| 24/24 [00:00<00:00, 170.74it/s]\n",
            "100%|██████████| 24/24 [00:00<00:00, 178.47it/s]\n",
            "100%|██████████| 24/24 [00:00<00:00, 174.25it/s]\n",
            "100%|██████████| 24/24 [00:00<00:00, 154.71it/s]\n",
            "100%|██████████| 24/24 [00:00<00:00, 170.28it/s]\n",
            "100%|██████████| 24/24 [00:00<00:00, 164.49it/s]\n"
          ]
        },
        {
          "output_type": "stream",
          "name": "stdout",
          "text": [
            "Epoch: 30, loss = 19.080230712890625\n"
          ]
        },
        {
          "output_type": "stream",
          "name": "stderr",
          "text": [
            "100%|██████████| 24/24 [00:00<00:00, 165.50it/s]\n",
            "100%|██████████| 24/24 [00:00<00:00, 175.62it/s]\n",
            "100%|██████████| 24/24 [00:00<00:00, 176.08it/s]\n",
            "100%|██████████| 24/24 [00:00<00:00, 163.29it/s]\n",
            "100%|██████████| 24/24 [00:00<00:00, 165.51it/s]\n",
            "100%|██████████| 24/24 [00:00<00:00, 177.92it/s]\n",
            "100%|██████████| 24/24 [00:00<00:00, 175.08it/s]\n",
            "100%|██████████| 24/24 [00:00<00:00, 178.73it/s]\n",
            "100%|██████████| 24/24 [00:00<00:00, 170.33it/s]\n",
            "100%|██████████| 24/24 [00:00<00:00, 176.88it/s]"
          ]
        },
        {
          "output_type": "stream",
          "name": "stdout",
          "text": [
            "Epoch: 40, loss = 17.01385498046875\n"
          ]
        },
        {
          "output_type": "stream",
          "name": "stderr",
          "text": [
            "\n"
          ]
        }
      ]
    },
    {
      "cell_type": "code",
      "source": [
        "g.save_weights(\"model_v2.h5\")"
      ],
      "metadata": {
        "id": "zzv9wit65H85"
      },
      "execution_count": 332,
      "outputs": []
    },
    {
      "cell_type": "code",
      "source": [
        "g.predict(\"v\")"
      ],
      "metadata": {
        "colab": {
          "base_uri": "https://localhost:8080/",
          "height": 36
        },
        "id": "HRfmim-1cLUu",
        "outputId": "3e16a21c-c53f-4283-9e39-ea34458cca57"
      },
      "execution_count": 327,
      "outputs": [
        {
          "output_type": "execute_result",
          "data": {
            "text/plain": [
              "'vetirhonis\\n'"
            ],
            "application/vnd.google.colaboratory.intrinsic+json": {
              "type": "string"
            }
          },
          "metadata": {},
          "execution_count": 327
        }
      ]
    },
    {
      "cell_type": "code",
      "source": [
        "g.save(\"model_v2.keras\")"
      ],
      "metadata": {
        "id": "Sq-8gPAjctOb"
      },
      "execution_count": 328,
      "outputs": []
    },
    {
      "cell_type": "code",
      "source": [
        "h = tf.keras.models.load_model(\"model_v2.keras\")"
      ],
      "metadata": {
        "id": "R6T3NjtDdGTj"
      },
      "execution_count": null,
      "outputs": []
    },
    {
      "cell_type": "code",
      "source": [
        "i = Generator(vocab_size, embedding_size, hidden_units)\n",
        "i.predict(\"x\")\n",
        "i.load_weights(\"model_v2.h5\")"
      ],
      "metadata": {
        "id": "FUiqt_iRdL5A"
      },
      "execution_count": 335,
      "outputs": []
    },
    {
      "cell_type": "code",
      "source": [
        "i.predict(\"a\")"
      ],
      "metadata": {
        "colab": {
          "base_uri": "https://localhost:8080/",
          "height": 36
        },
        "id": "5BcRs3J4epBy",
        "outputId": "ab3847b0-f8bc-4a22-d772-8121eeb70b25"
      },
      "execution_count": 342,
      "outputs": [
        {
          "output_type": "execute_result",
          "data": {
            "text/plain": [
              "'anaosaurus\\n'"
            ],
            "application/vnd.google.colaboratory.intrinsic+json": {
              "type": "string"
            }
          },
          "metadata": {},
          "execution_count": 342
        }
      ]
    },
    {
      "cell_type": "code",
      "source": [],
      "metadata": {
        "id": "yquLcs4hfEPC"
      },
      "execution_count": null,
      "outputs": []
    }
  ]
}